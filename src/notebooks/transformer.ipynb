{
 "cells": [
  {
   "cell_type": "markdown",
   "id": "b4d833f5",
   "metadata": {},
   "source": [
    "## Transformer Notebook"
   ]
  },
  {
   "cell_type": "markdown",
   "id": "24bd3220",
   "metadata": {},
   "source": [
    "Example of distilbert model"
   ]
  },
  {
   "cell_type": "code",
   "execution_count": 1,
   "id": "8b62a58b",
   "metadata": {},
   "outputs": [
    {
     "name": "stdout",
     "output_type": "stream",
     "text": [
      "WARNING:tensorflow:From c:\\Dave\\Apps\\miniconda3.9\\envs\\nlp\\Lib\\site-packages\\tf_keras\\src\\losses.py:2976: The name tf.losses.sparse_softmax_cross_entropy is deprecated. Please use tf.compat.v1.losses.sparse_softmax_cross_entropy instead.\n",
      "\n"
     ]
    },
    {
     "name": "stderr",
     "output_type": "stream",
     "text": [
      "c:\\Dave\\Apps\\miniconda3.9\\envs\\nlp\\Lib\\site-packages\\transformers\\tokenization_utils_base.py:1601: FutureWarning: `clean_up_tokenization_spaces` was not set. It will be set to `True` by default. This behavior will be depracted in transformers v4.45, and will be then set to `False` by default. For more details check this issue: https://github.com/huggingface/transformers/issues/31884\n",
      "  warnings.warn(\n"
     ]
    },
    {
     "name": "stdout",
     "output_type": "stream",
     "text": [
      "[{'label': 'NEGATIVE', 'score': 0.999779999256134}]\n"
     ]
    }
   ],
   "source": [
    "from transformers import pipeline\n",
    "import torch\n",
    "\n",
    "classifier = pipeline(\n",
    "    task=\"text-classification\",\n",
    "    model=\"distilbert-base-uncased-finetuned-sst-2-english\",\n",
    "    torch_dtype=torch.float16,\n",
    "    device=-1\n",
    ")\n",
    "\n",
    "result = classifier(\"Oh my god this guy is not good man...\")\n",
    "print(result)"
   ]
  },
  {
   "cell_type": "markdown",
   "id": "0db812b4",
   "metadata": {},
   "source": [
    "Setup GPU"
   ]
  },
  {
   "cell_type": "code",
   "execution_count": 1,
   "id": "de18fa7b",
   "metadata": {},
   "outputs": [
    {
     "name": "stdout",
     "output_type": "stream",
     "text": [
      "2.5.1\n",
      "True\n",
      "NVIDIA GeForce RTX 3060 Laptop GPU\n"
     ]
    }
   ],
   "source": [
    "import torch\n",
    "print(torch.__version__)            # should say 2.5.1\n",
    "print(torch.cuda.is_available())    # True\n",
    "print(torch.cuda.get_device_name(0))  # GPU name"
   ]
  },
  {
   "cell_type": "markdown",
   "id": "13ef0670",
   "metadata": {},
   "source": [
    "Import our data and produce dataframes"
   ]
  },
  {
   "cell_type": "code",
   "execution_count": 2,
   "id": "6c5622c4",
   "metadata": {},
   "outputs": [
    {
     "name": "stdout",
     "output_type": "stream",
     "text": [
      "Training dataset shape:  (16000, 2)\n",
      "Test dataset shape:  (2000, 2)\n",
      "Validating dataset shape:  (2000, 2)\n"
     ]
    },
    {
     "data": {
      "text/html": [
       "<div>\n",
       "<style scoped>\n",
       "    .dataframe tbody tr th:only-of-type {\n",
       "        vertical-align: middle;\n",
       "    }\n",
       "\n",
       "    .dataframe tbody tr th {\n",
       "        vertical-align: top;\n",
       "    }\n",
       "\n",
       "    .dataframe thead th {\n",
       "        text-align: right;\n",
       "    }\n",
       "</style>\n",
       "<table border=\"1\" class=\"dataframe\">\n",
       "  <thead>\n",
       "    <tr style=\"text-align: right;\">\n",
       "      <th></th>\n",
       "      <th>sentence</th>\n",
       "      <th>emotion</th>\n",
       "    </tr>\n",
       "  </thead>\n",
       "  <tbody>\n",
       "    <tr>\n",
       "      <th>0</th>\n",
       "      <td>i didnt feel humiliated</td>\n",
       "      <td>sadness</td>\n",
       "    </tr>\n",
       "    <tr>\n",
       "      <th>1</th>\n",
       "      <td>i can go from feeling so hopeless to so damned...</td>\n",
       "      <td>sadness</td>\n",
       "    </tr>\n",
       "    <tr>\n",
       "      <th>2</th>\n",
       "      <td>im grabbing a minute to post i feel greedy wrong</td>\n",
       "      <td>anger</td>\n",
       "    </tr>\n",
       "    <tr>\n",
       "      <th>3</th>\n",
       "      <td>i am ever feeling nostalgic about the fireplac...</td>\n",
       "      <td>love</td>\n",
       "    </tr>\n",
       "    <tr>\n",
       "      <th>4</th>\n",
       "      <td>i am feeling grouchy</td>\n",
       "      <td>anger</td>\n",
       "    </tr>\n",
       "  </tbody>\n",
       "</table>\n",
       "</div>"
      ],
      "text/plain": [
       "                                            sentence  emotion\n",
       "0                            i didnt feel humiliated  sadness\n",
       "1  i can go from feeling so hopeless to so damned...  sadness\n",
       "2   im grabbing a minute to post i feel greedy wrong    anger\n",
       "3  i am ever feeling nostalgic about the fireplac...     love\n",
       "4                               i am feeling grouchy    anger"
      ]
     },
     "execution_count": 2,
     "metadata": {},
     "output_type": "execute_result"
    }
   ],
   "source": [
    "import pandas as pd\n",
    "\n",
    "df_train = pd.read_csv('./NLP_exam_emotions_dataset/train.txt', sep=';', header=None,)\n",
    "df_train.columns = [\"sentence\", \"emotion\"]\n",
    "\n",
    "df_test = pd.read_csv('./NLP_exam_emotions_dataset/test.txt', sep=';', header=None,)\n",
    "df_test.columns = [\"sentence\", \"emotion\"]\n",
    "\n",
    "df_val = pd.read_csv('./NLP_exam_emotions_dataset/validation.txt', sep=';', header=None,)\n",
    "df_val.columns = [\"sentence\", \"emotion\"]\n",
    "\n",
    "print(\"Training dataset shape: \", df_train.shape)\n",
    "print(\"Test dataset shape: \", df_test.shape)\n",
    "print(\"Validating dataset shape: \", df_val.shape)\n",
    "df_train.head()\n"
   ]
  },
  {
   "cell_type": "markdown",
   "id": "dba9f5ef",
   "metadata": {},
   "source": [
    "Observe labels"
   ]
  },
  {
   "cell_type": "code",
   "execution_count": 3,
   "id": "347b96db",
   "metadata": {},
   "outputs": [
    {
     "data": {
      "image/png": "[encoded data removed]",
      "text/plain": [
       "<Figure size 640x480 with 1 Axes>"
      ]
     },
     "metadata": {},
     "output_type": "display_data"
    }
   ],
   "source": [
    "import matplotlib.pyplot as plt\n",
    "\n",
    "label_counts = df_train['emotion'].value_counts(ascending=True)\n",
    "label_counts.plot.barh()\n",
    "plt.title('Frequency of Classes in train dataset')\n",
    "plt.show()"
   ]
  },
  {
   "cell_type": "markdown",
   "id": "f7d94894",
   "metadata": {},
   "source": [
    "Change label text to a number, as required by distilbert"
   ]
  },
  {
   "cell_type": "code",
   "execution_count": 4,
   "id": "c30dcee4",
   "metadata": {},
   "outputs": [],
   "source": [
    "# Need to put labels as numbers for the model\n",
    "label2id = {label: idx for idx, label in enumerate(label_counts.index)}\n",
    "df_train['labels'] = df_train['emotion'].map(label2id)\n",
    "df_test['labels'] = df_test['emotion'].map(label2id)\n",
    "df_val['labels'] = df_val['emotion'].map(label2id)"
   ]
  },
  {
   "cell_type": "markdown",
   "id": "7a0e7223",
   "metadata": {},
   "source": [
    "Go from Pandas to Dataset (Huggingface)"
   ]
  },
  {
   "cell_type": "code",
   "execution_count": 5,
   "id": "6503ee11",
   "metadata": {},
   "outputs": [
    {
     "name": "stdout",
     "output_type": "stream",
     "text": [
      "DatasetDict({\n",
      "    train: Dataset({\n",
      "        features: ['sentence', 'emotion', 'labels'],\n",
      "        num_rows: 16000\n",
      "    })\n",
      "    test: Dataset({\n",
      "        features: ['sentence', 'emotion', 'labels'],\n",
      "        num_rows: 2000\n",
      "    })\n",
      "    validation: Dataset({\n",
      "        features: ['sentence', 'emotion', 'labels'],\n",
      "        num_rows: 2000\n",
      "    })\n",
      "})\n",
      "{'input_ids': [101, 17953, 2361, 2003, 12476, 999, 102], 'attention_mask': [1, 1, 1, 1, 1, 1, 1]}\n"
     ]
    },
    {
     "name": "stderr",
     "output_type": "stream",
     "text": [
      "c:\\Dave\\Apps\\miniconda3.9\\envs\\nlp\\Lib\\site-packages\\transformers\\tokenization_utils_base.py:1601: FutureWarning: `clean_up_tokenization_spaces` was not set. It will be set to `True` by default. This behavior will be depracted in transformers v4.45, and will be then set to `False` by default. For more details check this issue: https://github.com/huggingface/transformers/issues/31884\n",
      "  warnings.warn(\n"
     ]
    },
    {
     "data": {
      "application/vnd.jupyter.widget-view+json": {
       "model_id": "d9a90f6710cf456ab468a4ba79888ff0",
       "version_major": 2,
       "version_minor": 0
      },
      "text/plain": [
       "Map:   0%|          | 0/16000 [00:00<?, ? examples/s]"
      ]
     },
     "metadata": {},
     "output_type": "display_data"
    },
    {
     "data": {
      "application/vnd.jupyter.widget-view+json": {
       "model_id": "1e7ce2f92300434c85a371396d733b54",
       "version_major": 2,
       "version_minor": 0
      },
      "text/plain": [
       "Map:   0%|          | 0/2000 [00:00<?, ? examples/s]"
      ]
     },
     "metadata": {},
     "output_type": "display_data"
    },
    {
     "data": {
      "application/vnd.jupyter.widget-view+json": {
       "model_id": "3967e96a748144c18ffbd7c10a6f10e6",
       "version_major": 2,
       "version_minor": 0
      },
      "text/plain": [
       "Map:   0%|          | 0/2000 [00:00<?, ? examples/s]"
      ]
     },
     "metadata": {},
     "output_type": "display_data"
    },
    {
     "name": "stdout",
     "output_type": "stream",
     "text": [
      "DatasetDict({\n",
      "    train: Dataset({\n",
      "        features: ['sentence', 'emotion', 'labels', 'input_ids', 'attention_mask'],\n",
      "        num_rows: 16000\n",
      "    })\n",
      "    test: Dataset({\n",
      "        features: ['sentence', 'emotion', 'labels', 'input_ids', 'attention_mask'],\n",
      "        num_rows: 2000\n",
      "    })\n",
      "    validation: Dataset({\n",
      "        features: ['sentence', 'emotion', 'labels', 'input_ids', 'attention_mask'],\n",
      "        num_rows: 2000\n",
      "    })\n",
      "})\n"
     ]
    }
   ],
   "source": [
    "from transformers import AutoTokenizer, DistilBertTokenizer, DistilBertModel\n",
    "from datasets import load_dataset, Dataset, DatasetDict\n",
    "\n",
    "ds = DatasetDict()\n",
    "train_ds = Dataset.from_pandas(df_train)\n",
    "ds['train'] = train_ds\n",
    "test_ds = Dataset.from_pandas(df_test)\n",
    "ds['test'] = test_ds\n",
    "val_ds = Dataset.from_pandas(df_val)\n",
    "ds['validation'] = val_ds\n",
    "print(ds)\n",
    "\n",
    "model_ckpt = \"distilbert-base-uncased\"\n",
    "tokenizer = AutoTokenizer.from_pretrained(model_ckpt)\n",
    "\n",
    "text = \"NLP is awesome !\"\n",
    "encoded_text = tokenizer(text)\n",
    "print(encoded_text)\n",
    "\n",
    "def tokenize(examples):\n",
    "    return tokenizer(examples[\"sentence\"], padding=\"max_length\", truncation=True) | {\"labels\": examples[\"labels\"]}\n",
    "\n",
    "tokenized_dataset = ds.map(tokenize, batched=True)\n",
    "print(tokenized_dataset)"
   ]
  },
  {
   "cell_type": "markdown",
   "id": "cbfa132d",
   "metadata": {},
   "source": [
    "Training"
   ]
  },
  {
   "cell_type": "code",
   "execution_count": 6,
   "id": "74f5fcf5",
   "metadata": {},
   "outputs": [
    {
     "name": "stdout",
     "output_type": "stream",
     "text": [
      "WARNING:tensorflow:From c:\\Dave\\Apps\\miniconda3.9\\envs\\nlp\\Lib\\site-packages\\tf_keras\\src\\losses.py:2976: The name tf.losses.sparse_softmax_cross_entropy is deprecated. Please use tf.compat.v1.losses.sparse_softmax_cross_entropy instead.\n",
      "\n",
      "Device is :  cuda\n"
     ]
    },
    {
     "name": "stderr",
     "output_type": "stream",
     "text": [
      "Some weights of DistilBertForSequenceClassification were not initialized from the model checkpoint at distilbert-base-uncased and are newly initialized: ['classifier.bias', 'classifier.weight', 'pre_classifier.bias', 'pre_classifier.weight']\n",
      "You should probably TRAIN this model on a down-stream task to be able to use it for predictions and inference.\n",
      "c:\\Dave\\Apps\\miniconda3.9\\envs\\nlp\\Lib\\site-packages\\transformers\\training_args.py:1525: FutureWarning: `evaluation_strategy` is deprecated and will be removed in version 4.46 of 🤗 Transformers. Use `eval_strategy` instead\n",
      "  warnings.warn(\n"
     ]
    },
    {
     "data": {
      "application/vnd.jupyter.widget-view+json": {
       "model_id": "1b3b810b384a477a8d4c10ffa90db3fd",
       "version_major": 2,
       "version_minor": 0
      },
      "text/plain": [
       "  0%|          | 0/2000 [00:00<?, ?it/s]"
      ]
     },
     "metadata": {},
     "output_type": "display_data"
    },
    {
     "name": "stdout",
     "output_type": "stream",
     "text": [
      "{'loss': 0.7508, 'grad_norm': 17.265317916870117, 'learning_rate': 1.5020000000000002e-05, 'epoch': 0.5}\n",
      "{'loss': 0.2595, 'grad_norm': 19.08152198791504, 'learning_rate': 1.003e-05, 'epoch': 1.0}\n"
     ]
    },
    {
     "data": {
      "application/vnd.jupyter.widget-view+json": {
       "model_id": "b449aa118ab141188a750bf91821e651",
       "version_major": 2,
       "version_minor": 0
      },
      "text/plain": [
       "  0%|          | 0/125 [00:00<?, ?it/s]"
      ]
     },
     "metadata": {},
     "output_type": "display_data"
    },
    {
     "name": "stdout",
     "output_type": "stream",
     "text": [
      "{'eval_loss': 0.19487255811691284, 'eval_accuracy': 0.9285, 'eval_f1': 0.9292739505937004, 'eval_runtime': 15.7138, 'eval_samples_per_second': 127.277, 'eval_steps_per_second': 7.955, 'epoch': 1.0}\n",
      "{'loss': 0.1543, 'grad_norm': 1.3053419589996338, 'learning_rate': 5.03e-06, 'epoch': 1.5}\n",
      "{'loss': 0.1515, 'grad_norm': 20.78704071044922, 'learning_rate': 3.0000000000000004e-08, 'epoch': 2.0}\n"
     ]
    },
    {
     "data": {
      "application/vnd.jupyter.widget-view+json": {
       "model_id": "312e574ee40d4d4eb480e3fc2c5b341f",
       "version_major": 2,
       "version_minor": 0
      },
      "text/plain": [
       "  0%|          | 0/125 [00:00<?, ?it/s]"
      ]
     },
     "metadata": {},
     "output_type": "display_data"
    },
    {
     "name": "stdout",
     "output_type": "stream",
     "text": [
      "{'eval_loss': 0.15834705531597137, 'eval_accuracy': 0.938, 'eval_f1': 0.9380726347510024, 'eval_runtime': 14.5946, 'eval_samples_per_second': 137.037, 'eval_steps_per_second': 8.565, 'epoch': 2.0}\n",
      "{'train_runtime': 848.8037, 'train_samples_per_second': 37.7, 'train_steps_per_second': 2.356, 'train_loss': 0.3290307312011719, 'epoch': 2.0}\n"
     ]
    },
    {
     "data": {
      "text/plain": [
       "TrainOutput(global_step=2000, training_loss=0.3290307312011719, metrics={'train_runtime': 848.8037, 'train_samples_per_second': 37.7, 'train_steps_per_second': 2.356, 'total_flos': 4239259140096000.0, 'train_loss': 0.3290307312011719, 'epoch': 2.0})"
      ]
     },
     "execution_count": 6,
     "metadata": {},
     "output_type": "execute_result"
    }
   ],
   "source": [
    "import torch\n",
    "from transformers import AutoModelForSequenceClassification, TrainingArguments, Trainer\n",
    "from sklearn.metrics import accuracy_score, f1_score\n",
    "\n",
    "\n",
    "num_labels = len(label_counts)\n",
    "device = torch.device(\"cuda\" if torch.cuda.is_available() else \"cpu\")\n",
    "print(\"Device is : \", device)\n",
    "model = AutoModelForSequenceClassification.from_pretrained(model_ckpt, num_labels = num_labels).to(device)\n",
    "\n",
    "batch_size = 16\n",
    "\n",
    "training_args = TrainingArguments(output_dir = model_ckpt,\n",
    "                                 num_train_epochs=2,\n",
    "                                 learning_rate = 2e-5,\n",
    "                                 fp16=True,\n",
    "                                 per_device_train_batch_size= batch_size,\n",
    "                                 per_device_eval_batch_size = batch_size,\n",
    "                                  weight_decay=0.01,\n",
    "                                  evaluation_strategy = 'epoch',\n",
    "                                  disable_tqdm=False)\n",
    "\n",
    "def compute_metrics(pred):\n",
    "  labels = pred.label_ids\n",
    "  preds = pred.predictions.argmax(-1)\n",
    "  f1 = f1_score(labels, preds, average='weighted')\n",
    "  acc = accuracy_score(labels, preds)\n",
    "  return {\"accuracy\": acc, \"f1\": f1}\n",
    "\n",
    "trainer = Trainer(model=model, args=training_args,\n",
    "                  compute_metrics=compute_metrics,\n",
    "                  train_dataset=tokenized_dataset['train'],\n",
    "                  eval_dataset=tokenized_dataset['validation'],\n",
    "                  tokenizer=tokenizer)\n",
    "trainer.train()"
   ]
  },
  {
   "cell_type": "markdown",
   "id": "3f06142b",
   "metadata": {},
   "source": [
    "Test set"
   ]
  },
  {
   "cell_type": "code",
   "execution_count": 8,
   "id": "33afef89",
   "metadata": {},
   "outputs": [
    {
     "data": {
      "application/vnd.jupyter.widget-view+json": {
       "model_id": "67da6d9d5f4c4af8aa833b37e18c2bd2",
       "version_major": 2,
       "version_minor": 0
      },
      "text/plain": [
       "  0%|          | 0/125 [00:00<?, ?it/s]"
      ]
     },
     "metadata": {},
     "output_type": "display_data"
    },
    {
     "data": {
      "text/plain": [
       "{'test_loss': 0.183211550116539,\n",
       " 'test_accuracy': 0.9235,\n",
       " 'test_f1': 0.9239185549409004,\n",
       " 'test_runtime': 13.2477,\n",
       " 'test_samples_per_second': 150.97,\n",
       " 'test_steps_per_second': 9.436}"
      ]
     },
     "execution_count": 8,
     "metadata": {},
     "output_type": "execute_result"
    }
   ],
   "source": [
    "preds_outputs = trainer.predict(tokenized_dataset['test'])\n",
    "preds_outputs.metrics"
   ]
  },
  {
   "cell_type": "markdown",
   "id": "3ef6fbfc",
   "metadata": {},
   "source": [
    "Metrics "
   ]
  },
  {
   "cell_type": "code",
   "execution_count": 10,
   "id": "0a43c4ee",
   "metadata": {},
   "outputs": [
    {
     "name": "stdout",
     "output_type": "stream",
     "text": [
      "              precision    recall  f1-score   support\n",
      "\n",
      "    surprise       0.73      0.70      0.71        66\n",
      "        love       0.79      0.91      0.84       159\n",
      "        fear       0.89      0.87      0.88       224\n",
      "       anger       0.91      0.94      0.92       275\n",
      "     sadness       0.97      0.96      0.96       581\n",
      "         joy       0.96      0.93      0.94       695\n",
      "\n",
      "    accuracy                           0.92      2000\n",
      "   macro avg       0.87      0.88      0.88      2000\n",
      "weighted avg       0.93      0.92      0.92      2000\n",
      "\n"
     ]
    }
   ],
   "source": [
    "from sklearn.metrics import classification_report\n",
    "import numpy as np\n",
    "\n",
    "id2label = {idx: label for label, idx in label2id.items()}\n",
    "y_preds = np.argmax(preds_outputs.predictions, axis=1)\n",
    "y_true = tokenized_dataset['test'][:]['labels']\n",
    "print(classification_report(y_true, y_preds, target_names=[id2label[i] for i in sorted(id2label.keys())]))"
   ]
  }
 ],
 "metadata": {
  "kernelspec": {
   "display_name": "nlp",
   "language": "python",
   "name": "python3"
  },
  "language_info": {
   "codemirror_mode": {
    "name": "ipython",
    "version": 3
   },
   "file_extension": ".py",
   "mimetype": "text/x-python",
   "name": "python",
   "nbconvert_exporter": "python",
   "pygments_lexer": "ipython3",
   "version": "3.11.13"
  }
 },
 "nbformat": 4,
 "nbformat_minor": 5
}
