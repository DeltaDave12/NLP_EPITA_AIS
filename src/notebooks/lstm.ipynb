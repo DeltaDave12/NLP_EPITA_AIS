{
 "nbformat": 4,
 "nbformat_minor": 0,
 "metadata": {
  "colab": {
   "provenance": []
  },
  "kernelspec": {
   "name": "python3",
   "display_name": "Python 3 (ipykernel)",
   "language": "python"
  },
  "language_info": {
   "name": "python"
  }
 },
 "cells": [
  {
   "cell_type": "code",
   "metadata": {
    "id": "0RU-WO7kdmMM",
    "ExecuteTime": {
     "end_time": "2025-07-17T12:13:38.977467Z",
     "start_time": "2025-07-17T12:13:32.198862Z"
    }
   },
   "source": [
    "import pandas as pd\n",
    "import numpy as np\n",
    "import torch\n",
    "from sklearn.preprocessing import LabelEncoder\n",
    "from transformers import AutoTokenizer, AutoModel\n",
    "import torch.nn as nn\n",
    "from torch.utils.data import TensorDataset, DataLoader\n",
    "from sklearn.metrics import classification_report\n",
    "import copy"
   ],
   "outputs": [],
   "execution_count": 1
  },
  {
   "cell_type": "code",
   "source": [
    "device = torch.device(\"cuda\" if torch.cuda.is_available() else \"cpu\")\n",
    "print(device)"
   ],
   "metadata": {
    "colab": {
     "base_uri": "https://localhost:8080/"
    },
    "id": "gbapuQUeyE0S",
    "outputId": "7a20781d-293d-4fd2-d7f6-87ff7a0c0102",
    "ExecuteTime": {
     "end_time": "2025-07-17T12:13:44.404092Z",
     "start_time": "2025-07-17T12:13:38.993252Z"
    }
   },
   "outputs": [
    {
     "name": "stdout",
     "output_type": "stream",
     "text": [
      "cuda\n"
     ]
    }
   ],
   "execution_count": 2
  },
  {
   "cell_type": "markdown",
   "source": [
    "### Load dataset"
   ],
   "metadata": {
    "id": "RNUlQOuLfPqH"
   }
  },
  {
   "cell_type": "code",
   "source": [
    "train_df = pd.read_csv('../data/train.txt', header=None, sep=\";\")\n",
    "test_df = pd.read_csv('../data/test.txt', header=None, sep=\";\")\n",
    "val_df = pd.read_csv('../data/validation.txt', header=None, sep=\";\")"
   ],
   "metadata": {
    "id": "Uxc1ekBKd_gW",
    "ExecuteTime": {
     "end_time": "2025-07-17T12:13:44.797092Z",
     "start_time": "2025-07-17T12:13:44.756763Z"
    }
   },
   "outputs": [],
   "execution_count": 3
  },
  {
   "cell_type": "code",
   "source": [
    "train_df.head()"
   ],
   "metadata": {
    "colab": {
     "base_uri": "https://localhost:8080/",
     "height": 206
    },
    "id": "SF43L1KUejY5",
    "outputId": "f6aecec8-666a-41fe-c71d-43f4eaa94329",
    "ExecuteTime": {
     "end_time": "2025-07-17T12:13:44.939328Z",
     "start_time": "2025-07-17T12:13:44.866400Z"
    }
   },
   "outputs": [
    {
     "data": {
      "text/plain": [
       "                                                   0        1\n",
       "0                            i didnt feel humiliated  sadness\n",
       "1  i can go from feeling so hopeless to so damned...  sadness\n",
       "2   im grabbing a minute to post i feel greedy wrong    anger\n",
       "3  i am ever feeling nostalgic about the fireplac...     love\n",
       "4                               i am feeling grouchy    anger"
      ],
      "text/html": [
       "<div>\n",
       "<style scoped>\n",
       "    .dataframe tbody tr th:only-of-type {\n",
       "        vertical-align: middle;\n",
       "    }\n",
       "\n",
       "    .dataframe tbody tr th {\n",
       "        vertical-align: top;\n",
       "    }\n",
       "\n",
       "    .dataframe thead th {\n",
       "        text-align: right;\n",
       "    }\n",
       "</style>\n",
       "<table border=\"1\" class=\"dataframe\">\n",
       "  <thead>\n",
       "    <tr style=\"text-align: right;\">\n",
       "      <th></th>\n",
       "      <th>0</th>\n",
       "      <th>1</th>\n",
       "    </tr>\n",
       "  </thead>\n",
       "  <tbody>\n",
       "    <tr>\n",
       "      <th>0</th>\n",
       "      <td>i didnt feel humiliated</td>\n",
       "      <td>sadness</td>\n",
       "    </tr>\n",
       "    <tr>\n",
       "      <th>1</th>\n",
       "      <td>i can go from feeling so hopeless to so damned...</td>\n",
       "      <td>sadness</td>\n",
       "    </tr>\n",
       "    <tr>\n",
       "      <th>2</th>\n",
       "      <td>im grabbing a minute to post i feel greedy wrong</td>\n",
       "      <td>anger</td>\n",
       "    </tr>\n",
       "    <tr>\n",
       "      <th>3</th>\n",
       "      <td>i am ever feeling nostalgic about the fireplac...</td>\n",
       "      <td>love</td>\n",
       "    </tr>\n",
       "    <tr>\n",
       "      <th>4</th>\n",
       "      <td>i am feeling grouchy</td>\n",
       "      <td>anger</td>\n",
       "    </tr>\n",
       "  </tbody>\n",
       "</table>\n",
       "</div>"
      ]
     },
     "execution_count": 4,
     "metadata": {},
     "output_type": "execute_result"
    }
   ],
   "execution_count": 4
  },
  {
   "cell_type": "code",
   "source": [
    "train_df[1].value_counts()"
   ],
   "metadata": {
    "colab": {
     "base_uri": "https://localhost:8080/",
     "height": 303
    },
    "id": "_zxtKO9dxN4C",
    "outputId": "681d77f9-c01f-4c07-dc43-714eb8cfbcc0",
    "ExecuteTime": {
     "end_time": "2025-07-17T12:13:45.050378Z",
     "start_time": "2025-07-17T12:13:45.037188Z"
    }
   },
   "outputs": [
    {
     "data": {
      "text/plain": [
       "1\n",
       "joy         5362\n",
       "sadness     4666\n",
       "anger       2159\n",
       "fear        1937\n",
       "love        1304\n",
       "surprise     572\n",
       "Name: count, dtype: int64"
      ]
     },
     "execution_count": 5,
     "metadata": {},
     "output_type": "execute_result"
    }
   ],
   "execution_count": 5
  },
  {
   "cell_type": "markdown",
   "source": [
    "We need to make a encoder for emotions"
   ],
   "metadata": {
    "id": "f3YB8n2KxSw-"
   }
  },
  {
   "cell_type": "code",
   "source": [
    "label_encoder = LabelEncoder()\n",
    "train_labels = label_encoder.fit_transform(train_df[1])\n",
    "test_labels = label_encoder.transform(test_df[1])\n",
    "val_labels = label_encoder.transform(val_df[1])"
   ],
   "metadata": {
    "id": "4gEGhAejwi_f",
    "ExecuteTime": {
     "end_time": "2025-07-17T12:13:45.110141Z",
     "start_time": "2025-07-17T12:13:45.094417Z"
    }
   },
   "outputs": [],
   "execution_count": 6
  },
  {
   "cell_type": "code",
   "source": [
    "print(label_encoder.classes_)"
   ],
   "metadata": {
    "colab": {
     "base_uri": "https://localhost:8080/"
    },
    "id": "itwoYT4vx6Yj",
    "outputId": "d4e17e39-752b-49ed-be1c-66e301783077",
    "ExecuteTime": {
     "end_time": "2025-07-17T12:13:45.226673Z",
     "start_time": "2025-07-17T12:13:45.217952Z"
    }
   },
   "outputs": [
    {
     "name": "stdout",
     "output_type": "stream",
     "text": [
      "['anger' 'fear' 'joy' 'love' 'sadness' 'surprise']\n"
     ]
    }
   ],
   "execution_count": 7
  },
  {
   "cell_type": "code",
   "source": [
    "tokenizer = AutoTokenizer.from_pretrained(\"distilbert-base-uncased\")\n",
    "model = AutoModel.from_pretrained(\"distilbert-base-uncased\")\n",
    "model.eval()\n",
    "\n",
    "# Move to GPU if available\n",
    "device = torch.device(\"cuda\" if torch.cuda.is_available() else \"cpu\")\n",
    "model.to(device)\n",
    "\n",
    "train_texts = train_df[0].tolist()\n",
    "test_texts = test_df[0].tolist()\n",
    "val_texts = val_df[0].tolist()\n",
    "\n",
    "def get_embeddings(texts):\n",
    "    batch_size = 32\n",
    "    all_embeddings = []\n",
    "\n",
    "    for i in range(0, len(texts), batch_size):\n",
    "        batch = texts[i:i+batch_size]\n",
    "        encodings = tokenizer(batch, padding=True, truncation=True, return_tensors=\"pt\")\n",
    "        encodings = {k: v.to(device) for k, v in encodings.items()}\n",
    "\n",
    "        with torch.no_grad():\n",
    "            outputs = model(**encodings)\n",
    "            cls_embeddings = outputs.last_hidden_state[:, 0]  # CLS token\n",
    "\n",
    "        all_embeddings.append(cls_embeddings.cpu())\n",
    "\n",
    "    embeds = torch.cat(all_embeddings)\n",
    "    return embeds\n",
    "\n",
    "X_train_tensor = get_embeddings(train_texts)\n",
    "X_test_tensor = get_embeddings(test_texts)\n",
    "X_val_tensor = get_embeddings(val_texts)"
   ],
   "metadata": {
    "colab": {
     "base_uri": "https://localhost:8080/"
    },
    "id": "MhRiI4OQmroL",
    "outputId": "793cfc5b-15d3-4e21-a1ba-161a6c3d88e4",
    "ExecuteTime": {
     "end_time": "2025-07-17T12:14:26.994180Z",
     "start_time": "2025-07-17T12:13:45.427157Z"
    }
   },
   "outputs": [
    {
     "name": "stderr",
     "output_type": "stream",
     "text": [
      "2025-07-17 14:13:47.790070: I tensorflow/core/util/port.cc:153] oneDNN custom operations are on. You may see slightly different numerical results due to floating-point round-off errors from different computation orders. To turn them off, set the environment variable `TF_ENABLE_ONEDNN_OPTS=0`.\n",
      "2025-07-17 14:13:47.872659: E external/local_xla/xla/stream_executor/cuda/cuda_fft.cc:467] Unable to register cuFFT factory: Attempting to register factory for plugin cuFFT when one has already been registered\n",
      "WARNING: All log messages before absl::InitializeLog() is called are written to STDERR\n",
      "E0000 00:00:1752754427.920347   30796 cuda_dnn.cc:8579] Unable to register cuDNN factory: Attempting to register factory for plugin cuDNN when one has already been registered\n",
      "E0000 00:00:1752754427.927959   30796 cuda_blas.cc:1407] Unable to register cuBLAS factory: Attempting to register factory for plugin cuBLAS when one has already been registered\n",
      "W0000 00:00:1752754427.965523   30796 computation_placer.cc:177] computation placer already registered. Please check linkage and avoid linking the same target more than once.\n",
      "W0000 00:00:1752754427.965581   30796 computation_placer.cc:177] computation placer already registered. Please check linkage and avoid linking the same target more than once.\n",
      "W0000 00:00:1752754427.965585   30796 computation_placer.cc:177] computation placer already registered. Please check linkage and avoid linking the same target more than once.\n",
      "W0000 00:00:1752754427.965586   30796 computation_placer.cc:177] computation placer already registered. Please check linkage and avoid linking the same target more than once.\n",
      "2025-07-17 14:13:47.977594: I tensorflow/core/platform/cpu_feature_guard.cc:210] This TensorFlow binary is optimized to use available CPU instructions in performance-critical operations.\n",
      "To enable the following instructions: AVX2 AVX_VNNI FMA, in other operations, rebuild TensorFlow with the appropriate compiler flags.\n"
     ]
    }
   ],
   "execution_count": 8
  },
  {
   "metadata": {},
   "cell_type": "markdown",
   "source": "### Dataset & DataLoader"
  },
  {
   "metadata": {
    "ExecuteTime": {
     "end_time": "2025-07-17T12:14:27.061868Z",
     "start_time": "2025-07-17T12:14:27.054299Z"
    }
   },
   "cell_type": "code",
   "source": [
    "y_train_tensor = torch.tensor(train_labels, dtype=torch.long)\n",
    "y_test_tensor = torch.tensor(test_labels, dtype=torch.long)\n",
    "y_val_tensor = torch.tensor(val_labels, dtype=torch.long)\n",
    "\n",
    "train_dataset = TensorDataset(X_train_tensor, y_train_tensor)\n",
    "test_dataset = TensorDataset(X_test_tensor, y_test_tensor)\n",
    "val_dataset = TensorDataset(X_val_tensor, y_val_tensor)\n",
    "\n",
    "train_loader = DataLoader(train_dataset, batch_size=32, shuffle=True)\n",
    "test_loader = DataLoader(test_dataset, batch_size=32)\n",
    "val_loader = DataLoader(val_dataset, batch_size=32)"
   ],
   "outputs": [],
   "execution_count": 9
  },
  {
   "cell_type": "markdown",
   "source": [
    "### Model"
   ],
   "metadata": {
    "id": "6asL8Oorx9qL"
   }
  },
  {
   "metadata": {
    "id": "JCiBmf4Jx_hr",
    "ExecuteTime": {
     "end_time": "2025-07-17T12:14:27.135118Z",
     "start_time": "2025-07-17T12:14:27.116624Z"
    }
   },
   "cell_type": "code",
   "source": [
    "class LSTMModel(nn.Module):\n",
    "    def __init__(self, input_size=768, num_classes=6):\n",
    "        super().__init__()\n",
    "        self.lstm = nn.LSTM(input_size=input_size, hidden_size=256, num_layers=6, batch_first=True)\n",
    "        self.fc1 = nn.Linear(in_features=256, out_features=128)\n",
    "        self.fc2 = nn.Linear(in_features=128, out_features=num_classes)\n",
    "        self.relu = nn.ReLU()\n",
    "        self.dropout = nn.Dropout(0.3)\n",
    "\n",
    "    def forward(self, x):\n",
    "        _, (hn, _) = self.lstm(x)\n",
    "        hn = self.relu(hn)\n",
    "        x = self.fc1(hn[-1])\n",
    "        x = self.relu(x)\n",
    "        x = self.dropout(x)\n",
    "        out = self.fc2(x)\n",
    "        return out"
   ],
   "outputs": [],
   "execution_count": 10
  },
  {
   "metadata": {
    "ExecuteTime": {
     "end_time": "2025-07-17T12:14:27.214520Z",
     "start_time": "2025-07-17T12:14:27.194678Z"
    }
   },
   "cell_type": "code",
   "source": [
    "def train(model, train_loader, optimizer, criterion, device, epochs=10, val_loader=None, patience=5):\n",
    "    model.to(device)\n",
    "    best_model_wts = copy.deepcopy(model.state_dict())\n",
    "\n",
    "    best_val_loss = float('inf')\n",
    "    epochs_no_improve = 0\n",
    "\n",
    "    for epoch in range(epochs):\n",
    "        model.train()\n",
    "        total_loss = 0\n",
    "        correct = 0\n",
    "        total = 0\n",
    "\n",
    "        for X_batch, y_batch in train_loader:\n",
    "            X_batch, y_batch = X_batch.to(device), y_batch.to(device)\n",
    "\n",
    "            optimizer.zero_grad()\n",
    "            outputs = model(X_batch.unsqueeze(1))\n",
    "            loss = criterion(outputs, y_batch)\n",
    "            loss.backward()\n",
    "            optimizer.step()\n",
    "\n",
    "            total_loss += loss.item()\n",
    "\n",
    "            preds = torch.argmax(outputs, dim=1)\n",
    "            correct += (preds == y_batch).sum().item()\n",
    "            total += y_batch.size(0)\n",
    "\n",
    "        train_acc = correct / total\n",
    "        print(f\"Epoch {epoch+1}/{epochs} | Train Loss: {total_loss:.4f} | Train Acc: {train_acc:.4f}\", end=\"\")\n",
    "\n",
    "        if val_loader:\n",
    "            val_loss, val_acc = evaluate(model, val_loader, criterion, device, return_metrics=True)\n",
    "            print(f\" | Val Loss: {val_loss:.4f} | Val Acc: {val_acc:.4f}\")\n",
    "\n",
    "            # Early stopping logic\n",
    "            if val_loss < best_val_loss:\n",
    "                best_val_loss = val_loss\n",
    "                epochs_no_improve = 0\n",
    "                best_model_wts = model.state_dict()\n",
    "            else:\n",
    "                epochs_no_improve += 1\n",
    "\n",
    "            if epochs_no_improve >= patience:\n",
    "                model.load_state_dict(best_model_wts)\n",
    "                best_model_wts = copy.deepcopy(model.state_dict())\n",
    "                torch.save(best_model_wts, \"../models/best_lstm_model.pth\")\n",
    "                break\n",
    "        else:\n",
    "            print()"
   ],
   "outputs": [],
   "execution_count": 11
  },
  {
   "metadata": {
    "ExecuteTime": {
     "end_time": "2025-07-17T12:14:27.279996Z",
     "start_time": "2025-07-17T12:14:27.273682Z"
    }
   },
   "cell_type": "code",
   "source": [
    "def evaluate(model, data_loader, criterion, device, label_encoder=None, return_metrics=False):\n",
    "    model.eval()\n",
    "    all_preds = []\n",
    "    all_labels = []\n",
    "    total_loss = 0\n",
    "    correct = 0\n",
    "    total = 0\n",
    "\n",
    "    with torch.no_grad():\n",
    "        for X_batch, y_batch in data_loader:\n",
    "            X_batch, y_batch = X_batch.to(device), y_batch.to(device)\n",
    "\n",
    "            outputs = model(X_batch.unsqueeze(1))\n",
    "            loss = criterion(outputs, y_batch)\n",
    "            total_loss += loss.item()\n",
    "\n",
    "            preds = torch.argmax(outputs, dim=1)\n",
    "            all_preds.extend(preds.cpu().numpy())\n",
    "            all_labels.extend(y_batch.cpu().numpy())\n",
    "\n",
    "            correct += (preds == y_batch).sum().item()\n",
    "            total += y_batch.size(0)\n",
    "\n",
    "    accuracy = correct / total\n",
    "\n",
    "    if return_metrics:\n",
    "        avg_loss = total_loss / len(data_loader)\n",
    "        return avg_loss, accuracy\n",
    "    else:\n",
    "        print(\"\\nClassification Report:\")\n",
    "        print(classification_report(all_labels, all_preds, target_names=label_encoder.classes_ if label_encoder else None))"
   ],
   "outputs": [],
   "execution_count": 12
  },
  {
   "metadata": {
    "id": "9xC9zAMz1Ru5",
    "ExecuteTime": {
     "end_time": "2025-07-17T12:14:27.357783Z",
     "start_time": "2025-07-17T12:14:27.331587Z"
    }
   },
   "cell_type": "code",
   "source": [
    "criterion = torch.nn.CrossEntropyLoss()\n",
    "model = LSTMModel()\n",
    "optimizer = torch.optim.Adam(model.parameters(), lr=0.001)"
   ],
   "outputs": [],
   "execution_count": 13
  },
  {
   "metadata": {},
   "cell_type": "markdown",
   "source": "### Train"
  },
  {
   "metadata": {
    "ExecuteTime": {
     "end_time": "2025-07-17T12:16:49.621341Z",
     "start_time": "2025-07-17T12:14:27.386707Z"
    }
   },
   "cell_type": "code",
   "source": "train(model, train_loader, optimizer, criterion, device, epochs=50, val_loader=test_loader, patience=5)",
   "outputs": [
    {
     "name": "stdout",
     "output_type": "stream",
     "text": [
      "Epoch 1/50 | Train Loss: 795.9105 | Train Acc: 0.3231 | Val Loss: 1.5676 | Val Acc: 0.3475\n",
      "Epoch 2/50 | Train Loss: 791.0013 | Train Acc: 0.3321 | Val Loss: 1.5626 | Val Acc: 0.3475\n",
      "Epoch 3/50 | Train Loss: 789.7311 | Train Acc: 0.3339 | Val Loss: 1.5675 | Val Acc: 0.3475\n",
      "Epoch 4/50 | Train Loss: 790.2893 | Train Acc: 0.3320 | Val Loss: 1.5590 | Val Acc: 0.3475\n",
      "Epoch 5/50 | Train Loss: 708.2081 | Train Acc: 0.4613 | Val Loss: 1.3207 | Val Acc: 0.5025\n",
      "Epoch 6/50 | Train Loss: 650.2456 | Train Acc: 0.5136 | Val Loss: 1.2415 | Val Acc: 0.5300\n",
      "Epoch 7/50 | Train Loss: 625.8571 | Train Acc: 0.5319 | Val Loss: 1.2098 | Val Acc: 0.5460\n",
      "Epoch 8/50 | Train Loss: 606.8732 | Train Acc: 0.5492 | Val Loss: 1.1683 | Val Acc: 0.5725\n",
      "Epoch 9/50 | Train Loss: 593.7319 | Train Acc: 0.5579 | Val Loss: 1.1966 | Val Acc: 0.5595\n",
      "Epoch 10/50 | Train Loss: 576.9561 | Train Acc: 0.5681 | Val Loss: 1.1479 | Val Acc: 0.5660\n",
      "Epoch 11/50 | Train Loss: 565.9292 | Train Acc: 0.5776 | Val Loss: 1.1281 | Val Acc: 0.5785\n",
      "Epoch 12/50 | Train Loss: 553.1232 | Train Acc: 0.5859 | Val Loss: 1.1404 | Val Acc: 0.5775\n",
      "Epoch 13/50 | Train Loss: 546.2849 | Train Acc: 0.5956 | Val Loss: 1.1155 | Val Acc: 0.5915\n",
      "Epoch 14/50 | Train Loss: 536.8525 | Train Acc: 0.5996 | Val Loss: 1.1161 | Val Acc: 0.5860\n",
      "Epoch 15/50 | Train Loss: 527.1336 | Train Acc: 0.6099 | Val Loss: 1.1254 | Val Acc: 0.5945\n",
      "Epoch 16/50 | Train Loss: 515.9480 | Train Acc: 0.6178 | Val Loss: 1.1210 | Val Acc: 0.5900\n",
      "Epoch 17/50 | Train Loss: 505.3541 | Train Acc: 0.6231 | Val Loss: 1.1325 | Val Acc: 0.6025\n",
      "Epoch 18/50 | Train Loss: 491.4461 | Train Acc: 0.6350 | Val Loss: 1.0938 | Val Acc: 0.6005\n",
      "Epoch 19/50 | Train Loss: 485.1897 | Train Acc: 0.6343 | Val Loss: 1.0965 | Val Acc: 0.6080\n",
      "Epoch 20/50 | Train Loss: 472.1234 | Train Acc: 0.6470 | Val Loss: 1.0709 | Val Acc: 0.6110\n",
      "Epoch 21/50 | Train Loss: 460.0438 | Train Acc: 0.6525 | Val Loss: 1.0779 | Val Acc: 0.6125\n",
      "Epoch 22/50 | Train Loss: 449.8845 | Train Acc: 0.6601 | Val Loss: 1.0868 | Val Acc: 0.6155\n",
      "Epoch 23/50 | Train Loss: 440.5980 | Train Acc: 0.6646 | Val Loss: 1.0899 | Val Acc: 0.6130\n",
      "Epoch 24/50 | Train Loss: 430.9283 | Train Acc: 0.6711 | Val Loss: 1.1040 | Val Acc: 0.6165\n",
      "Epoch 25/50 | Train Loss: 427.1336 | Train Acc: 0.6787 | Val Loss: 1.1114 | Val Acc: 0.6050\n"
     ]
    }
   ],
   "execution_count": 14
  },
  {
   "metadata": {
    "ExecuteTime": {
     "end_time": "2025-07-17T12:16:50.264877Z",
     "start_time": "2025-07-17T12:16:49.875961Z"
    }
   },
   "cell_type": "code",
   "source": [
    "model = LSTMModel()\n",
    "model.load_state_dict(torch.load(\"../models/best_lstm_model.pth\"))\n",
    "model.to(device)\n",
    "criterion = torch.nn.CrossEntropyLoss()\n",
    "evaluate(model, val_loader, criterion, label_encoder=label_encoder, device=device, return_metrics=False)"
   ],
   "outputs": [
    {
     "name": "stdout",
     "output_type": "stream",
     "text": [
      "\n",
      "Classification Report:\n",
      "              precision    recall  f1-score   support\n",
      "\n",
      "       anger       0.51      0.32      0.39       275\n",
      "        fear       0.49      0.61      0.55       212\n",
      "         joy       0.66      0.83      0.74       704\n",
      "        love       0.38      0.19      0.25       178\n",
      "     sadness       0.63      0.67      0.65       550\n",
      "    surprise       0.54      0.09      0.15        81\n",
      "\n",
      "    accuracy                           0.60      2000\n",
      "   macro avg       0.53      0.45      0.45      2000\n",
      "weighted avg       0.58      0.60      0.58      2000\n",
      "\n"
     ]
    }
   ],
   "execution_count": 15
  }
 ]
}
